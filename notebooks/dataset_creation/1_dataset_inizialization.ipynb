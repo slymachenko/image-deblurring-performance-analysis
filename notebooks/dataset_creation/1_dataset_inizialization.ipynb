{
 "cells": [
  {
   "cell_type": "markdown",
   "id": "27d12ec8",
   "metadata": {},
   "source": [
    "The \"HQ-50K Dataset\" is required, which contains the `test` and `train` folders. The important folder is `test`, which includes `.txt` files containing URLs for 1250 images."
   ]
  },
  {
   "cell_type": "markdown",
   "id": "f837481a",
   "metadata": {},
   "source": [
    "### Load HQ-50k test"
   ]
  },
  {
   "cell_type": "code",
   "execution_count": null,
   "id": "74940a5f",
   "metadata": {},
   "outputs": [
    {
     "name": "stdout",
     "output_type": "stream",
     "text": [
      "Totale immagini processate: 1250\n",
      "        id                                                url  category\n",
      "0        1  https://prosperwell.com/wp-content/uploads/201...    animal\n",
      "1        2  https://jennifertarheelreader.files.wordpress....    animal\n",
      "2        3  http://lanting.com/wp-content/uploads/Lanting_...    animal\n",
      "3        4  https://drscdn.500px.org/photo/41458556/m%3D20...    animal\n",
      "4        5  https://images7.alphacoders.com/755/thumb-1920...    animal\n",
      "...    ...                                                ...       ...\n",
      "1245  1246  https://images.squarespace-cdn.com/content/v1/...  withchar\n",
      "1246  1247  https://s3-us-west-2.amazonaws.com/static1.vil...  withchar\n",
      "1247  1248  https://greeblehaus.com/wp-content/uploads/201...  withchar\n",
      "1248  1249  http://media3.onsugar.com/files/2013/12/06/901...  withchar\n",
      "1249  1250  http://www.fontpad.co.uk/wp-content/uploads/20...  withchar\n",
      "\n",
      "[1250 rows x 3 columns]\n"
     ]
    }
   ],
   "source": [
    "# create df with \"url\" and \"category\"\n",
    "\n",
    "import os\n",
    "import pandas as pd\n",
    "\n",
    "dataset_path = \"../../local/HQ-50k/test\"\n",
    "image_data = []\n",
    "unique_id = 1\n",
    "\n",
    "# Iterate over .txt files in the folder\n",
    "for txt_file in os.listdir(dataset_path):\n",
    "    if txt_file.endswith(\".txt\"):\n",
    "        category = os.path.splitext(txt_file)[0]  # Use the file name (without extension) as the category\n",
    "        txt_path = os.path.join(dataset_path, txt_file)\n",
    "        with open(txt_path, \"r\") as file:\n",
    "            urls = file.readlines()\n",
    "\n",
    "            for url in urls:\n",
    "                url = url.strip()\n",
    "                if not url:\n",
    "                    continue\n",
    "\n",
    "                image_data.append({\n",
    "                    \"id\": unique_id,\n",
    "                    \"url\": url,\n",
    "                    \"category\": category\n",
    "                })\n",
    "                unique_id += 1\n",
    "\n",
    "# Verify the total number of images, must be 1250\n",
    "print(f\"Total processed images: {len(image_data)}\")\n",
    "\n",
    "df_image_data = pd.DataFrame(image_data)\n",
    "print(df_image_data)"
   ]
  },
  {
   "cell_type": "markdown",
   "id": "6585fb8d",
   "metadata": {},
   "source": [
    "### Validation"
   ]
  },
  {
   "cell_type": "code",
   "execution_count": null,
   "id": "5bfb8ab8",
   "metadata": {},
   "outputs": [],
   "source": [
    "# validate URLs"
   ]
  },
  {
   "cell_type": "markdown",
   "id": "163d6762",
   "metadata": {},
   "source": [
    "### 'image_deblurring_dataset.csv' creation"
   ]
  },
  {
   "cell_type": "code",
   "execution_count": null,
   "id": "4da9a111",
   "metadata": {},
   "outputs": [],
   "source": [
    "# set ids and metadata\n",
    "# save in `image_deblurring_dataset.csv`"
   ]
  }
 ],
 "metadata": {
  "kernelspec": {
   "display_name": "dp",
   "language": "python",
   "name": "python3"
  },
  "language_info": {
   "codemirror_mode": {
    "name": "ipython",
    "version": 3
   },
   "file_extension": ".py",
   "mimetype": "text/x-python",
   "name": "python",
   "nbconvert_exporter": "python",
   "pygments_lexer": "ipython3",
   "version": "3.13.2"
  }
 },
 "nbformat": 4,
 "nbformat_minor": 5
}
