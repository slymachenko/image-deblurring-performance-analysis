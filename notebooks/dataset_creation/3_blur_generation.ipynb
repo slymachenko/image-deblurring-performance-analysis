{
 "cells": [
  {
   "cell_type": "code",
   "execution_count": null,
   "id": "c1f932c5",
   "metadata": {},
   "outputs": [],
   "source": [
    "import sys\n",
    "sys.path.append(\"../..\")"
   ]
  },
  {
   "cell_type": "code",
   "execution_count": null,
   "id": "1a0f97ed",
   "metadata": {},
   "outputs": [],
   "source": []
  }
 ],
 "metadata": {
  "language_info": {
   "name": "python"
  }
 },
 "nbformat": 4,
 "nbformat_minor": 5
}
