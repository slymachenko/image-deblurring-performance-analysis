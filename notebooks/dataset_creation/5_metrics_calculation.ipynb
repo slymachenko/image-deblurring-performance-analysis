{
 "cells": [
  {
   "cell_type": "code",
   "execution_count": 1,
   "id": "bff6935e",
   "metadata": {},
   "outputs": [],
   "source": [
    "from tqdm import tqdm\n",
    "import pandas as pd\n",
    "import cv2\n",
    "\n",
    "from common.metrics import calculate_ssim, calculate_psnr, calculate_lpips, calculate_gmsd\n",
    "from common.config import BLUR_PARAM_RANGES\n",
    "\n",
    "from pathlib import Path\n",
    "\n",
    "def run_metrics(\n",
    "        dataset_path: Path,\n",
    "        original_path: Path,\n",
    "        deblurred_path: Path,\n",
    "        save: bool = False\n",
    "):\n",
    "    df = pd.read_parquet(dataset_path)\n",
    "\n",
    "    for blur_type in BLUR_PARAM_RANGES.keys():\n",
    "        for key in tqdm(df.dropna()['key'], desc=f\"Metrics: {blur_type:<8}\\t\"):\n",
    "            img1_path = original_path / f\"{key}.png\"\n",
    "            img2_path = deblurred_path / blur_type /f\"{key}.png\"\n",
    "\n",
    "            img1 = cv2.imread(img1_path)\n",
    "            img2 = cv2.imread(img2_path)\n",
    "\n",
    "            ssim = calculate_ssim(img1, img2)\n",
    "            psnr = calculate_psnr(img1, img2)\n",
    "            lpips = calculate_lpips(img1, img2)\n",
    "            gmsd = calculate_gmsd(img1, img2)\n",
    "\n",
    "            df.loc[df['key'] == key, f'ssim_{blur_type}'] = ssim\n",
    "            df.loc[df['key'] == key, f'psnr_{blur_type}'] = psnr\n",
    "            df.loc[df['key'] == key, f'lpips_{blur_type}'] = lpips\n",
    "            df.loc[df['key'] == key, f'gmsd_{blur_type}'] = gmsd\n",
    "    \n",
    "    if save:\n",
    "        df.to_parquet(dataset_path)\n",
    "    \n",
    "    return df"
   ]
  },
  {
   "cell_type": "code",
   "execution_count": 2,
   "id": "99f05a3c",
   "metadata": {},
   "outputs": [
    {
     "name": "stderr",
     "output_type": "stream",
     "text": [
      "Metrics: box     \t:   2%|▏         | 21/950 [00:42<31:20,  2.02s/it]\n"
     ]
    },
    {
     "ename": "KeyboardInterrupt",
     "evalue": "",
     "output_type": "error",
     "traceback": [
      "\u001b[31m---------------------------------------------------------------------------\u001b[39m",
      "\u001b[31mKeyboardInterrupt\u001b[39m                         Traceback (most recent call last)",
      "\u001b[36mCell\u001b[39m\u001b[36m \u001b[39m\u001b[32mIn[2]\u001b[39m\u001b[32m, line 5\u001b[39m\n\u001b[32m      1\u001b[39m \u001b[38;5;28;01mfrom\u001b[39;00m\u001b[38;5;250m \u001b[39m\u001b[34;01mcommon\u001b[39;00m\u001b[34;01m.\u001b[39;00m\u001b[34;01mconfig\u001b[39;00m\u001b[38;5;250m \u001b[39m\u001b[38;5;28;01mimport\u001b[39;00m TEST_ORIGINAL_DIR, TEST_DEBLURRED_DIR, IDPA_DIR\n\u001b[32m      3\u001b[39m name = \u001b[33m\"\u001b[39m\u001b[33mpseudoinverse_nokernel\u001b[39m\u001b[33m\"\u001b[39m\n\u001b[32m----> \u001b[39m\u001b[32m5\u001b[39m df = \u001b[43mrun_metrics\u001b[49m\u001b[43m(\u001b[49m\n\u001b[32m      6\u001b[39m \u001b[43m    \u001b[49m\u001b[43mdataset_path\u001b[49m\u001b[43m=\u001b[49m\u001b[43mIDPA_DIR\u001b[49m\u001b[43m \u001b[49m\u001b[43m/\u001b[49m\u001b[43m \u001b[49m\u001b[33;43mf\u001b[39;49m\u001b[33;43m\"\u001b[39;49m\u001b[38;5;132;43;01m{\u001b[39;49;00m\u001b[43mname\u001b[49m\u001b[38;5;132;43;01m}\u001b[39;49;00m\u001b[33;43m.parquet\u001b[39;49m\u001b[33;43m\"\u001b[39;49m\u001b[43m,\u001b[49m\n\u001b[32m      7\u001b[39m \u001b[43m    \u001b[49m\u001b[43moriginal_path\u001b[49m\u001b[43m=\u001b[49m\u001b[43mTEST_ORIGINAL_DIR\u001b[49m\u001b[43m \u001b[49m\u001b[43m/\u001b[49m\u001b[43m \u001b[49m\u001b[33;43m\"\u001b[39;49m\u001b[33;43m00000\u001b[39;49m\u001b[33;43m\"\u001b[39;49m\u001b[43m,\u001b[49m\n\u001b[32m      8\u001b[39m \u001b[43m    \u001b[49m\u001b[43mdeblurred_path\u001b[49m\u001b[43m=\u001b[49m\u001b[43mTEST_DEBLURRED_DIR\u001b[49m\u001b[43m \u001b[49m\u001b[43m/\u001b[49m\u001b[43m \u001b[49m\u001b[43mname\u001b[49m\n\u001b[32m      9\u001b[39m \u001b[43m)\u001b[49m\n",
      "\u001b[36mCell\u001b[39m\u001b[36m \u001b[39m\u001b[32mIn[1]\u001b[39m\u001b[32m, line 26\u001b[39m, in \u001b[36mrun_metrics\u001b[39m\u001b[34m(dataset_path, original_path, deblurred_path, save)\u001b[39m\n\u001b[32m     23\u001b[39m img1 = cv2.imread(img1_path)\n\u001b[32m     24\u001b[39m img2 = cv2.imread(img2_path)\n\u001b[32m---> \u001b[39m\u001b[32m26\u001b[39m ssim = \u001b[43mcalculate_ssim\u001b[49m\u001b[43m(\u001b[49m\u001b[43mimg1\u001b[49m\u001b[43m,\u001b[49m\u001b[43m \u001b[49m\u001b[43mimg2\u001b[49m\u001b[43m)\u001b[49m\n\u001b[32m     27\u001b[39m psnr = calculate_psnr(img1, img2)\n\u001b[32m     28\u001b[39m lpips = calculate_lpips(img1, img2)\n",
      "\u001b[36mFile \u001b[39m\u001b[32m~/Code/github/image-deblurring-performance-analysis/common/common/metrics.py:35\u001b[39m, in \u001b[36mcalculate_ssim\u001b[39m\u001b[34m(img1_np, img2_np, multichannel, data_range)\u001b[39m\n\u001b[32m     32\u001b[39m     dmax = \u001b[38;5;28mmax\u001b[39m(img1_np.max(), img2_np.max())\n\u001b[32m     33\u001b[39m     data_range = dmax - dmin\n\u001b[32m---> \u001b[39m\u001b[32m35\u001b[39m \u001b[38;5;28;01mreturn\u001b[39;00m \u001b[43mssim\u001b[49m\u001b[43m(\u001b[49m\u001b[43mimg1_np\u001b[49m\u001b[43m,\u001b[49m\u001b[43m \u001b[49m\u001b[43mimg2_np\u001b[49m\u001b[43m,\u001b[49m\u001b[43m \u001b[49m\u001b[43mdata_range\u001b[49m\u001b[43m=\u001b[49m\u001b[43mdata_range\u001b[49m\u001b[43m,\u001b[49m\u001b[43m \u001b[49m\u001b[43mchannel_axis\u001b[49m\u001b[43m=\u001b[49m\u001b[43m-\u001b[49m\u001b[32;43m1\u001b[39;49m\u001b[43m \u001b[49m\u001b[38;5;28;43;01mif\u001b[39;49;00m\u001b[43m \u001b[49m\u001b[43mmultichannel\u001b[49m\u001b[43m \u001b[49m\u001b[38;5;28;43;01melse\u001b[39;49;00m\u001b[43m \u001b[49m\u001b[38;5;28;43;01mNone\u001b[39;49;00m\u001b[43m)\u001b[49m\n",
      "\u001b[36mFile \u001b[39m\u001b[32m~/miniforge3/envs/idpa/lib/python3.13/site-packages/skimage/metrics/_structural_similarity.py:142\u001b[39m, in \u001b[36mstructural_similarity\u001b[39m\u001b[34m(im1, im2, win_size, gradient, data_range, channel_axis, gaussian_weights, full, **kwargs)\u001b[39m\n\u001b[32m    140\u001b[39m _at = functools.partial(utils.slice_at_axis, axis=channel_axis)\n\u001b[32m    141\u001b[39m \u001b[38;5;28;01mfor\u001b[39;00m ch \u001b[38;5;129;01min\u001b[39;00m \u001b[38;5;28mrange\u001b[39m(nch):\n\u001b[32m--> \u001b[39m\u001b[32m142\u001b[39m     ch_result = \u001b[43mstructural_similarity\u001b[49m\u001b[43m(\u001b[49m\u001b[43mim1\u001b[49m\u001b[43m[\u001b[49m\u001b[43m_at\u001b[49m\u001b[43m(\u001b[49m\u001b[43mch\u001b[49m\u001b[43m)\u001b[49m\u001b[43m]\u001b[49m\u001b[43m,\u001b[49m\u001b[43m \u001b[49m\u001b[43mim2\u001b[49m\u001b[43m[\u001b[49m\u001b[43m_at\u001b[49m\u001b[43m(\u001b[49m\u001b[43mch\u001b[49m\u001b[43m)\u001b[49m\u001b[43m]\u001b[49m\u001b[43m,\u001b[49m\u001b[43m \u001b[49m\u001b[43m*\u001b[49m\u001b[43m*\u001b[49m\u001b[43margs\u001b[49m\u001b[43m)\u001b[49m\n\u001b[32m    143\u001b[39m     \u001b[38;5;28;01mif\u001b[39;00m gradient \u001b[38;5;129;01mand\u001b[39;00m full:\n\u001b[32m    144\u001b[39m         mssim[ch], G[_at(ch)], S[_at(ch)] = ch_result\n",
      "\u001b[36mFile \u001b[39m\u001b[32m~/miniforge3/envs/idpa/lib/python3.13/site-packages/skimage/metrics/_structural_similarity.py:251\u001b[39m, in \u001b[36mstructural_similarity\u001b[39m\u001b[34m(im1, im2, win_size, gradient, data_range, channel_axis, gaussian_weights, full, **kwargs)\u001b[39m\n\u001b[32m    248\u001b[39m uy = filter_func(im2, **filter_args)\n\u001b[32m    250\u001b[39m \u001b[38;5;66;03m# compute (weighted) variances and covariances\u001b[39;00m\n\u001b[32m--> \u001b[39m\u001b[32m251\u001b[39m uxx = \u001b[43mfilter_func\u001b[49m\u001b[43m(\u001b[49m\u001b[43mim1\u001b[49m\u001b[43m \u001b[49m\u001b[43m*\u001b[49m\u001b[43m \u001b[49m\u001b[43mim1\u001b[49m\u001b[43m,\u001b[49m\u001b[43m \u001b[49m\u001b[43m*\u001b[49m\u001b[43m*\u001b[49m\u001b[43mfilter_args\u001b[49m\u001b[43m)\u001b[49m\n\u001b[32m    252\u001b[39m uyy = filter_func(im2 * im2, **filter_args)\n\u001b[32m    253\u001b[39m uxy = filter_func(im1 * im2, **filter_args)\n",
      "\u001b[36mFile \u001b[39m\u001b[32m~/miniforge3/envs/idpa/lib/python3.13/site-packages/scipy/ndimage/_filters.py:1181\u001b[39m, in \u001b[36muniform_filter\u001b[39m\u001b[34m(input, size, output, mode, cval, origin, axes)\u001b[39m\n\u001b[32m   1179\u001b[39m \u001b[38;5;28;01mif\u001b[39;00m \u001b[38;5;28mlen\u001b[39m(axes) > \u001b[32m0\u001b[39m:\n\u001b[32m   1180\u001b[39m     \u001b[38;5;28;01mfor\u001b[39;00m axis, size, origin, mode \u001b[38;5;129;01min\u001b[39;00m axes:\n\u001b[32m-> \u001b[39m\u001b[32m1181\u001b[39m         \u001b[43muniform_filter1d\u001b[49m\u001b[43m(\u001b[49m\u001b[38;5;28;43minput\u001b[39;49m\u001b[43m,\u001b[49m\u001b[43m \u001b[49m\u001b[38;5;28;43mint\u001b[39;49m\u001b[43m(\u001b[49m\u001b[43msize\u001b[49m\u001b[43m)\u001b[49m\u001b[43m,\u001b[49m\u001b[43m \u001b[49m\u001b[43maxis\u001b[49m\u001b[43m,\u001b[49m\u001b[43m \u001b[49m\u001b[43moutput\u001b[49m\u001b[43m,\u001b[49m\u001b[43m \u001b[49m\u001b[43mmode\u001b[49m\u001b[43m,\u001b[49m\n\u001b[32m   1182\u001b[39m \u001b[43m                         \u001b[49m\u001b[43mcval\u001b[49m\u001b[43m,\u001b[49m\u001b[43m \u001b[49m\u001b[43morigin\u001b[49m\u001b[43m)\u001b[49m\n\u001b[32m   1183\u001b[39m         \u001b[38;5;28minput\u001b[39m = output\n\u001b[32m   1184\u001b[39m \u001b[38;5;28;01melse\u001b[39;00m:\n",
      "\u001b[36mFile \u001b[39m\u001b[32m~/miniforge3/envs/idpa/lib/python3.13/site-packages/scipy/ndimage/_filters.py:1109\u001b[39m, in \u001b[36muniform_filter1d\u001b[39m\u001b[34m(input, size, axis, output, mode, cval, origin)\u001b[39m\n\u001b[32m   1107\u001b[39m mode = _ni_support._extend_mode_to_code(mode)\n\u001b[32m   1108\u001b[39m \u001b[38;5;28;01mif\u001b[39;00m \u001b[38;5;129;01mnot\u001b[39;00m complex_output:\n\u001b[32m-> \u001b[39m\u001b[32m1109\u001b[39m     \u001b[43m_nd_image\u001b[49m\u001b[43m.\u001b[49m\u001b[43muniform_filter1d\u001b[49m\u001b[43m(\u001b[49m\u001b[38;5;28;43minput\u001b[39;49m\u001b[43m,\u001b[49m\u001b[43m \u001b[49m\u001b[43msize\u001b[49m\u001b[43m,\u001b[49m\u001b[43m \u001b[49m\u001b[43maxis\u001b[49m\u001b[43m,\u001b[49m\u001b[43m \u001b[49m\u001b[43moutput\u001b[49m\u001b[43m,\u001b[49m\u001b[43m \u001b[49m\u001b[43mmode\u001b[49m\u001b[43m,\u001b[49m\u001b[43m \u001b[49m\u001b[43mcval\u001b[49m\u001b[43m,\u001b[49m\n\u001b[32m   1110\u001b[39m \u001b[43m                               \u001b[49m\u001b[43morigin\u001b[49m\u001b[43m)\u001b[49m\n\u001b[32m   1111\u001b[39m \u001b[38;5;28;01melse\u001b[39;00m:\n\u001b[32m   1112\u001b[39m     _nd_image.uniform_filter1d(\u001b[38;5;28minput\u001b[39m.real, size, axis, output.real, mode,\n\u001b[32m   1113\u001b[39m                                np.real(cval), origin)\n",
      "\u001b[31mKeyboardInterrupt\u001b[39m: "
     ]
    }
   ],
   "source": [
    "from common.config import TEST_ORIGINAL_DIR, TEST_DEBLURRED_DIR, IDPA_DIR\n",
    "\n",
    "name = \"pseudoinverse_nokernel\"\n",
    "\n",
    "df = run_metrics(\n",
    "    dataset_path=IDPA_DIR / f\"{name}.parquet\",\n",
    "    original_path=TEST_ORIGINAL_DIR / \"00000\",\n",
    "    deblurred_path=TEST_DEBLURRED_DIR / name\n",
    ")"
   ]
  }
 ],
 "metadata": {
  "kernelspec": {
   "display_name": "Python 3",
   "language": "python",
   "name": "python3"
  },
  "language_info": {
   "codemirror_mode": {
    "name": "ipython",
    "version": 3
   },
   "file_extension": ".py",
   "mimetype": "text/x-python",
   "name": "python",
   "nbconvert_exporter": "python",
   "pygments_lexer": "ipython3",
   "version": "3.13.3"
  }
 },
 "nbformat": 4,
 "nbformat_minor": 5
}
